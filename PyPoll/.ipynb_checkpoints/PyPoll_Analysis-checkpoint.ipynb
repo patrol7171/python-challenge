{
 "cells": [
  {
   "cell_type": "markdown",
   "metadata": {},
   "source": [
    "# Python Challenge: PyPoll Analysis\n",
    "#### In this challenge, the task is to help a small, rural town modernize its vote-counting process. This python script analyzes the votes and calculates each of the following:\n",
    "* The total number of votes cast\n",
    "* A complete list of candidates who received votes\n",
    "* The percentage of votes each candidate won\n",
    "* The total number of votes each candidate won\n",
    "* The winner of the election based on popular vote."
   ]
  },
  {
   "cell_type": "code",
   "execution_count": 10,
   "metadata": {},
   "outputs": [],
   "source": [
    "import pandas as pd\n",
    "import numpy as np\n",
    "import os\n",
    "import csv"
   ]
  },
  {
   "cell_type": "code",
   "execution_count": 11,
   "metadata": {},
   "outputs": [],
   "source": [
    "election_data = os.path.join(\"RawData\",\"election_data_1.csv\")"
   ]
  },
  {
   "cell_type": "code",
   "execution_count": 12,
   "metadata": {},
   "outputs": [
    {
     "data": {
      "text/html": [
       "<div>\n",
       "<style scoped>\n",
       "    .dataframe tbody tr th:only-of-type {\n",
       "        vertical-align: middle;\n",
       "    }\n",
       "\n",
       "    .dataframe tbody tr th {\n",
       "        vertical-align: top;\n",
       "    }\n",
       "\n",
       "    .dataframe thead th {\n",
       "        text-align: right;\n",
       "    }\n",
       "</style>\n",
       "<table border=\"1\" class=\"dataframe\">\n",
       "  <thead>\n",
       "    <tr style=\"text-align: right;\">\n",
       "      <th></th>\n",
       "      <th>Voter ID</th>\n",
       "      <th>County</th>\n",
       "      <th>Candidate</th>\n",
       "    </tr>\n",
       "  </thead>\n",
       "  <tbody>\n",
       "    <tr>\n",
       "      <th>0</th>\n",
       "      <td>1405627</td>\n",
       "      <td>Harsaw</td>\n",
       "      <td>Vestal</td>\n",
       "    </tr>\n",
       "    <tr>\n",
       "      <th>1</th>\n",
       "      <td>1711723</td>\n",
       "      <td>Mershville</td>\n",
       "      <td>Vestal</td>\n",
       "    </tr>\n",
       "    <tr>\n",
       "      <th>2</th>\n",
       "      <td>1550639</td>\n",
       "      <td>Matterdawn</td>\n",
       "      <td>Vestal</td>\n",
       "    </tr>\n",
       "    <tr>\n",
       "      <th>3</th>\n",
       "      <td>1042621</td>\n",
       "      <td>Harsaw</td>\n",
       "      <td>Vestal</td>\n",
       "    </tr>\n",
       "    <tr>\n",
       "      <th>4</th>\n",
       "      <td>1583965</td>\n",
       "      <td>Matterdawn</td>\n",
       "      <td>Vestal</td>\n",
       "    </tr>\n",
       "  </tbody>\n",
       "</table>\n",
       "</div>"
      ],
      "text/plain": [
       "   Voter ID      County Candidate\n",
       "0   1405627      Harsaw    Vestal\n",
       "1   1711723  Mershville    Vestal\n",
       "2   1550639  Matterdawn    Vestal\n",
       "3   1042621      Harsaw    Vestal\n",
       "4   1583965  Matterdawn    Vestal"
      ]
     },
     "execution_count": 12,
     "metadata": {},
     "output_type": "execute_result"
    }
   ],
   "source": [
    "election_data_pd = pd.read_csv(election_data, low_memory=False)\n",
    "election_data_pd.head()"
   ]
  },
  {
   "cell_type": "code",
   "execution_count": 13,
   "metadata": {},
   "outputs": [
    {
     "name": "stdout",
     "output_type": "stream",
     "text": [
      "803000\n"
     ]
    }
   ],
   "source": [
    "#Calculate the total number of votes cast\n",
    "votes_total = len(election_data_pd)\n",
    "print(votes_total)"
   ]
  },
  {
   "cell_type": "code",
   "execution_count": 14,
   "metadata": {},
   "outputs": [
    {
     "name": "stdout",
     "output_type": "stream",
     "text": [
      "{'Vestal', 'Seth', 'Torres', 'Cordin'}\n"
     ]
    }
   ],
   "source": [
    "#Extract a complete list of candidates who received votes\n",
    "candidate_list = set(election_data_pd[\"Candidate\"])\n",
    "print (candidate_list)"
   ]
  },
  {
   "cell_type": "code",
   "execution_count": 15,
   "metadata": {},
   "outputs": [
    {
     "name": "stdout",
     "output_type": "stream",
     "text": [
      "           Voter Count Percentage\n",
      "Candidate                        \n",
      "Cordin           24090         3%\n",
      "Seth             40150         5%\n",
      "Torres          353320        44%\n",
      "Vestal          385440        48%\n"
     ]
    }
   ],
   "source": [
    "# Find the percentage of votes each candidate won\n",
    "vote_percentage = election_data_pd.groupby([\"Candidate\"]).count()\n",
    "del vote_percentage[\"County\"]\n",
    "vote_percentage['Percentage'] = ((100 * vote_percentage['Voter ID'] / vote_percentage['Voter ID'].sum()).astype(int)).astype(str)+ \"%\"\n",
    "vote_percentage.rename(columns={'Voter ID': 'Voter Count'}, inplace=True)\n",
    "print (vote_percentage)"
   ]
  },
  {
   "cell_type": "code",
   "execution_count": 16,
   "metadata": {},
   "outputs": [
    {
     "data": {
      "text/plain": [
       "Candidate\n",
       "Cordin     24090\n",
       "Seth       40150\n",
       "Torres    353320\n",
       "Vestal    385440\n",
       "Name: Voter ID, dtype: int64"
      ]
     },
     "execution_count": 16,
     "metadata": {},
     "output_type": "execute_result"
    }
   ],
   "source": [
    "# Find the total number of votes each candidate won\n",
    "election_data_pd.groupby([\"Candidate\"])[\"Voter ID\"].count()"
   ]
  },
  {
   "cell_type": "code",
   "execution_count": 17,
   "metadata": {},
   "outputs": [
    {
     "name": "stdout",
     "output_type": "stream",
     "text": [
      "Vestal\n"
     ]
    }
   ],
   "source": [
    "# Determine the winner of the election based on popular vote\n",
    "highest_count = (election_data_pd.groupby([\"Candidate\"])[\"Voter ID\"].count()).max()\n",
    "winner_info = vote_percentage[vote_percentage[\"Voter Count\"].isin([highest_count])]\n",
    "winner_name = list(winner_info.index.values)[0]\n",
    "print(winner_name)"
   ]
  },
  {
   "cell_type": "code",
   "execution_count": 18,
   "metadata": {},
   "outputs": [
    {
     "name": "stdout",
     "output_type": "stream",
     "text": [
      " Election Results \n",
      " ------------------------- \n",
      " Total Votes: 803000 \n",
      " ------------------------- \n",
      " \n",
      "            Voter Count Percentage\n",
      "Candidate                        \n",
      "Cordin           24090         3%\n",
      "Seth             40150         5%\n",
      "Torres          353320        44%\n",
      "Vestal          385440        48% \n",
      " ------------------------- \n",
      " Winner: Vestal \n",
      " -------------------------\n"
     ]
    }
   ],
   "source": [
    "# Display final analysis\n",
    "print (f\" Election Results \\n ------------------------- \\n Total Votes: {votes_total} \\n ------------------------- \\n \")\n",
    "print (f\" {vote_percentage} \\n ------------------------- \\n Winner: {winner_name} \\n -------------------------\")"
   ]
  },
  {
   "cell_type": "code",
   "execution_count": 22,
   "metadata": {},
   "outputs": [
    {
     "name": "stdout",
     "output_type": "stream",
     "text": [
      "\n",
      "\n",
      "Election Results\n",
      "-------------------------\n",
      "Total Votes: 803000\n",
      "-------------------------\n",
      "           Voter Count Percentage\n",
      "Candidate                        \n",
      "Cordin           24090         3%\n",
      "Seth             40150         5%\n",
      "Torres          353320        44%\n",
      "Vestal          385440        48%\n",
      "-------------------------\n",
      "Winner: Vestal\n",
      "-------------------------\n",
      "\n"
     ]
    }
   ],
   "source": [
    "#Export results to a text file\n",
    "file_to_output = \"PyPoll_Analysis/election_analysis.txt\"\n",
    "with open(file_to_output, \"w\") as txt_file:\n",
    "\n",
    "    # Print the final vote count (to terminal)\n",
    "    election_results = (\n",
    "        f\"\\n\\nElection Results\\n\"\n",
    "        f\"-------------------------\\n\"\n",
    "        f\"Total Votes: {votes_total}\\n\"\n",
    "        f\"-------------------------\\n\")\n",
    "    print(election_results, end=\"\")\n",
    "    # Save the final vote count to the text file\n",
    "    txt_file.write(election_results)\n",
    "    \n",
    "    # Print each candidate's voter count and percentage (to terminal)\n",
    "    voter_output = f\"{vote_percentage}\\n\"\n",
    "    print(voter_output, end=\"\")\n",
    "    # Save each candidate's voter count and percentage to text file\n",
    "    txt_file.write(voter_output)\n",
    "\n",
    "    # Print the winning candidate (to terminal)\n",
    "    winning_candidate_summary = (\n",
    "        f\"-------------------------\\n\"\n",
    "        f\"Winner: {winner_name}\\n\"\n",
    "        f\"-------------------------\\n\")\n",
    "    print(winning_candidate_summary)\n",
    "    # Save the winning candidate's name to the text file\n",
    "    txt_file.write(winning_candidate_summary)\n"
   ]
  },
  {
   "cell_type": "code",
   "execution_count": null,
   "metadata": {},
   "outputs": [],
   "source": []
  }
 ],
 "metadata": {
  "kernelspec": {
   "display_name": "Python 3",
   "language": "python",
   "name": "python3"
  },
  "language_info": {
   "codemirror_mode": {
    "name": "ipython",
    "version": 3
   },
   "file_extension": ".py",
   "mimetype": "text/x-python",
   "name": "python",
   "nbconvert_exporter": "python",
   "pygments_lexer": "ipython3",
   "version": "3.6.4"
  }
 },
 "nbformat": 4,
 "nbformat_minor": 2
}
